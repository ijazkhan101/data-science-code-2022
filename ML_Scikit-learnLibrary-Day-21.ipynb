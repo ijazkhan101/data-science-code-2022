{
 "cells": [
  {
   "cell_type": "code",
   "execution_count": 6,
   "metadata": {},
   "outputs": [],
   "source": [
    "import matplotlib.pyplot as plt \n",
    "from sklearn.datasets import load_boston\n",
    "from  sklearn.preprocessing import StandardScaler \n",
    "from  sklearn.linear_model import LinearRegression"
   ]
  },
  {
   "cell_type": "code",
   "execution_count": 7,
   "metadata": {},
   "outputs": [
    {
     "name": "stderr",
     "output_type": "stream",
     "text": [
      "C:\\Users\\Lenovo\\AppData\\Roaming\\Python\\Python310\\site-packages\\sklearn\\utils\\deprecation.py:87: FutureWarning: Function load_boston is deprecated; `load_boston` is deprecated in 1.0 and will be removed in 1.2.\n",
      "\n",
      "    The Boston housing prices dataset has an ethical problem. You can refer to\n",
      "    the documentation of this function for further details.\n",
      "\n",
      "    The scikit-learn maintainers therefore strongly discourage the use of this\n",
      "    dataset unless the purpose of the code is to study and educate about\n",
      "    ethical issues in data science and machine learning.\n",
      "\n",
      "    In this special case, you can fetch the dataset from the original\n",
      "    source::\n",
      "\n",
      "        import pandas as pd\n",
      "        import numpy as np\n",
      "\n",
      "        data_url = \"http://lib.stat.cmu.edu/datasets/boston\"\n",
      "        raw_df = pd.read_csv(data_url, sep=\"\\s+\", skiprows=22, header=None)\n",
      "        data = np.hstack([raw_df.values[::2, :], raw_df.values[1::2, :2]])\n",
      "        target = raw_df.values[1::2, 2]\n",
      "\n",
      "    Alternative datasets include the California housing dataset (i.e.\n",
      "    :func:`~sklearn.datasets.fetch_california_housing`) and the Ames housing\n",
      "    dataset. You can load the datasets as follows::\n",
      "\n",
      "        from sklearn.datasets import fetch_california_housing\n",
      "        housing = fetch_california_housing()\n",
      "\n",
      "    for the California housing dataset and::\n",
      "\n",
      "        from sklearn.datasets import fetch_openml\n",
      "        housing = fetch_openml(name=\"house_prices\", as_frame=True)\n",
      "\n",
      "    for the Ames housing dataset.\n",
      "  warnings.warn(msg, category=FutureWarning)\n"
     ]
    }
   ],
   "source": [
    "X, y = load_boston(return_X_y=True)"
   ]
  },
  {
   "cell_type": "code",
   "execution_count": 8,
   "metadata": {},
   "outputs": [
    {
     "data": {
      "text/plain": [
       "array([[6.3200e-03, 1.8000e+01, 2.3100e+00, ..., 1.5300e+01, 3.9690e+02,\n",
       "        4.9800e+00],\n",
       "       [2.7310e-02, 0.0000e+00, 7.0700e+00, ..., 1.7800e+01, 3.9690e+02,\n",
       "        9.1400e+00],\n",
       "       [2.7290e-02, 0.0000e+00, 7.0700e+00, ..., 1.7800e+01, 3.9283e+02,\n",
       "        4.0300e+00],\n",
       "       ...,\n",
       "       [6.0760e-02, 0.0000e+00, 1.1930e+01, ..., 2.1000e+01, 3.9690e+02,\n",
       "        5.6400e+00],\n",
       "       [1.0959e-01, 0.0000e+00, 1.1930e+01, ..., 2.1000e+01, 3.9345e+02,\n",
       "        6.4800e+00],\n",
       "       [4.7410e-02, 0.0000e+00, 1.1930e+01, ..., 2.1000e+01, 3.9690e+02,\n",
       "        7.8800e+00]])"
      ]
     },
     "execution_count": 8,
     "metadata": {},
     "output_type": "execute_result"
    }
   ],
   "source": [
    "X"
   ]
  },
  {
   "cell_type": "code",
   "execution_count": 9,
   "metadata": {},
   "outputs": [],
   "source": [
    "scaler = StandardScaler()"
   ]
  },
  {
   "cell_type": "code",
   "execution_count": 17,
   "metadata": {},
   "outputs": [],
   "source": [
    "scaled_X = scaler.fit_transform(X)"
   ]
  },
  {
   "cell_type": "code",
   "execution_count": 18,
   "metadata": {},
   "outputs": [
    {
     "data": {
      "text/plain": [
       "array([[-0.41978194,  0.28482986, -1.2879095 , ..., -1.45900038,\n",
       "         0.44105193, -1.0755623 ],\n",
       "       [-0.41733926, -0.48772236, -0.59338101, ..., -0.30309415,\n",
       "         0.44105193, -0.49243937],\n",
       "       [-0.41734159, -0.48772236, -0.59338101, ..., -0.30309415,\n",
       "         0.39642699, -1.2087274 ],\n",
       "       ...,\n",
       "       [-0.41344658, -0.48772236,  0.11573841, ...,  1.17646583,\n",
       "         0.44105193, -0.98304761],\n",
       "       [-0.40776407, -0.48772236,  0.11573841, ...,  1.17646583,\n",
       "         0.4032249 , -0.86530163],\n",
       "       [-0.41500016, -0.48772236,  0.11573841, ...,  1.17646583,\n",
       "         0.44105193, -0.66905833]])"
      ]
     },
     "execution_count": 18,
     "metadata": {},
     "output_type": "execute_result"
    }
   ],
   "source": [
    "scaled_X"
   ]
  },
  {
   "cell_type": "code",
   "execution_count": 19,
   "metadata": {},
   "outputs": [],
   "source": [
    "Ir=LinearRegression()"
   ]
  },
  {
   "cell_type": "code",
   "execution_count": 20,
   "metadata": {},
   "outputs": [],
   "source": [
    "model = Ir.fit(scaled_X,y)"
   ]
  },
  {
   "cell_type": "code",
   "execution_count": 24,
   "metadata": {},
   "outputs": [
    {
     "data": {
      "text/plain": [
       "array([-2.77790220e+02, -2.05249620e+02, -1.87879574e+02, -1.44795275e+02,\n",
       "       -1.51286773e+02, -1.54991946e+02, -3.38336431e+02, -3.62650225e+02,\n",
       "       -4.13569743e+02, -3.66292873e+02, -3.72027947e+02, -3.42162752e+02,\n",
       "       -3.55477883e+02, -3.39555153e+02, -3.59788324e+02, -3.41188450e+02,\n",
       "       -3.42216350e+02, -3.70422623e+02, -4.43182028e+02, -3.53619199e+02,\n",
       "       -4.02650272e+02, -3.61590677e+02, -3.75906918e+02, -3.83112756e+02,\n",
       "       -3.70430742e+02, -4.49711051e+02, -3.80847144e+02, -4.48924635e+02,\n",
       "       -3.61414177e+02, -3.64095214e+02, -4.23426937e+02, -3.72526865e+02,\n",
       "       -5.49984209e+02, -4.07355694e+02, -5.07865312e+02, -2.75788343e+02,\n",
       "       -2.99153578e+02, -2.74919581e+02, -2.82685980e+02, -1.28791995e+02,\n",
       "       -1.19015484e+02, -1.80721157e+02, -1.87633221e+02, -1.84223152e+02,\n",
       "       -1.96121588e+02, -1.91489162e+02, -2.05986389e+02, -2.27124823e+02,\n",
       "       -2.70632923e+02, -2.16687983e+02, -2.02304367e+02, -1.87819976e+02,\n",
       "       -1.69561695e+02, -1.82716643e+02, -6.30523848e+02, -6.26604079e+01,\n",
       "       -2.61928910e+02, -1.07377513e+02, -2.61027443e+02, -2.62024803e+02,\n",
       "       -2.79338458e+02, -2.96257344e+02, -2.51805027e+02, -2.65312425e+02,\n",
       "       -1.42786897e+02, -2.97484122e+02, -3.19429743e+02, -4.06642648e+02,\n",
       "       -4.25269126e+02, -4.08460450e+02, -3.37599005e+02, -3.56268102e+02,\n",
       "       -3.27930012e+02, -3.46807166e+02, -5.14706196e+02, -5.32720861e+02,\n",
       "       -5.50243908e+02, -5.33620330e+02, -5.44283902e+02, -5.23678583e+02,\n",
       "       -2.43587354e+02, -2.51464884e+02, -2.50098381e+02, -2.58450027e+02,\n",
       "       -2.16659119e+02, -2.07141404e+02, -2.29525872e+02, -2.11089915e+02,\n",
       "       -2.43848581e+02, -2.45544088e+02, -2.61188013e+02, -2.57613557e+02,\n",
       "       -2.21829512e+02, -2.14494638e+02, -2.29219038e+02, -2.95928087e+02,\n",
       "       -2.85737259e+02, -2.49523116e+02, -2.51380075e+02, -2.58896084e+02,\n",
       "       -4.93793615e+02, -4.86780041e+02, -7.74084918e+02, -5.10383645e+02,\n",
       "       -5.06630585e+02, -5.20707371e+02, -5.28022589e+02, -5.16731425e+02,\n",
       "       -5.03307325e+02, -5.20236164e+02, -5.10155642e+02, -5.85988934e+02,\n",
       "       -6.10120992e+02, -6.11927733e+02, -5.92805970e+02, -6.51370239e+02,\n",
       "       -5.96782133e+02, -5.89530211e+02, -6.55694192e+02, -6.05623006e+02,\n",
       "       -1.12836805e+02, -1.21388680e+02, -1.34354163e+02, -1.68775726e+02,\n",
       "       -1.31866091e+02, -1.16588145e+02, -1.85376330e+02, -6.36300539e+02,\n",
       "       -6.23602563e+02, -6.37884911e+02, -6.15626748e+02, -6.14415597e+02,\n",
       "       -6.19097302e+02, -6.32966815e+02, -7.48781399e+02, -6.32783612e+02,\n",
       "       -6.46981839e+02, -6.23089625e+02, -6.50959536e+02, -6.35618788e+02,\n",
       "       -6.64058500e+02, -6.98610455e+02, -5.83859578e+02, -5.83870593e+02,\n",
       "       -5.94741031e+02, -7.75922140e+02, -7.38708968e+02, -6.00001651e+02,\n",
       "       -6.24478780e+02, -6.02366698e+02, -5.54894723e+02, -5.79958952e+02,\n",
       "       -5.74504287e+02, -6.56917281e+02, -6.02195751e+02, -8.01865401e+02,\n",
       "       -8.07306490e+02, -5.24908870e+02, -5.41932058e+02, -5.36139262e+02,\n",
       "       -5.50197465e+02, -5.04041579e+02, -4.90758608e+02, -4.95620594e+02,\n",
       "       -5.30054214e+02, -6.54316064e+02, -5.15231835e+02, -6.73964044e+02,\n",
       "       -6.09005092e+02, -5.82283675e+02, -6.26761579e+02, -5.71199300e+02,\n",
       "       -3.23051077e+02, -3.01029026e+02, -3.07158165e+02, -2.93126200e+02,\n",
       "       -3.11540163e+02, -2.93176110e+02, -2.96497855e+02, -7.84605574e+01,\n",
       "       -8.61828851e+01, -9.64245776e+01, -7.85042652e+01, -8.13426097e+01,\n",
       "       -1.20524470e+02, -1.20546323e+02, -7.88433259e+01, -4.57182405e+02,\n",
       "       -4.61910232e+02, -4.51164805e+02, -4.73311397e+02, -4.61925693e+02,\n",
       "       -4.53379743e+02, -1.78517835e+02, -1.90585741e+02, -1.12522728e+02,\n",
       "       -2.76231975e+02, -3.29799723e+02, -2.89683102e+02, -4.22081253e+02,\n",
       "       -4.31956878e+02, -3.32158755e+02, -3.11176789e+02, -3.49971506e+01,\n",
       "       -3.29367847e+01, -2.79731660e+02, -2.81436547e+02, -3.13678473e+02,\n",
       "       -3.06202334e+02, -3.24806594e+02, -3.04389011e+02, -3.28902194e+02,\n",
       "       -3.02206232e+02, -2.82086860e+02, -3.90957493e+02, -2.76155395e+02,\n",
       "       -2.79484374e+02, -2.64281528e+02, -2.90976307e+02, -2.66255631e+02,\n",
       "       -3.21679484e+02, -3.65335145e+02, -3.25538696e+02, -3.12598453e+02,\n",
       "       -3.03894441e+02, -3.07196521e+02, -2.99638676e+02, -3.27226241e+02,\n",
       "       -3.13694857e+02, -3.13772646e+02, -3.46626244e+02, -3.20477069e+02,\n",
       "       -2.99997342e+02, -3.10940746e+02, -3.45783155e+02, -3.44703785e+02,\n",
       "       -3.29036083e+02, -3.08478258e+02, -2.89660013e+02, -2.88943505e+02,\n",
       "       -2.97070763e+02, -2.99955072e+02, -3.15813236e+02, -2.92381817e+02,\n",
       "       -3.98682331e+02, -4.06939378e+02, -3.71024025e+02, -3.85343072e+02,\n",
       "       -3.83490710e+02, -3.56125415e+02, -3.50821899e+02, -3.58767903e+02,\n",
       "       -3.54100541e+02, -3.41710519e+02, -2.79187419e+02, -2.88135252e+02,\n",
       "       -9.45383913e+01, -1.87751657e+02, -2.06941091e+02, -1.97938643e+02,\n",
       "       -2.06865606e+02, -2.00989963e+02, -1.95278205e+02, -2.12135953e+02,\n",
       "       -2.04703027e+02, -2.15004174e+02, -2.34490012e+02, -2.04042356e+02,\n",
       "       -1.86982686e+02, -1.62554113e+02, -1.65417066e+02, -1.33762069e+02,\n",
       "       -1.36423288e+02, -1.33539028e+02, -1.56796170e+02, -1.55595067e+02,\n",
       "       -1.73299840e+02, -1.64447732e+02, -1.72149532e+02, -9.74166502e+01,\n",
       "       -9.98379506e+01, -1.03285031e+02, -1.07430176e+02,  1.07988963e+01,\n",
       "       -1.98773073e+02, -2.70764929e+02, -1.96083655e+02, -2.42688142e+02,\n",
       "       -2.43855051e+02, -2.72160560e+02, -1.01231463e+02, -1.01369577e+02,\n",
       "       -1.07066626e+02, -2.94375232e+02, -3.01038340e+02, -2.85470771e+02,\n",
       "       -2.92990603e+02, -3.24275444e+02, -3.75808012e+02, -3.70437365e+02,\n",
       "       -3.58758464e+02, -3.36663940e+02, -3.44602327e+02, -3.23265186e+02,\n",
       "       -1.06752424e+02, -1.13814373e+02, -9.83581377e+01, -1.04119839e+02,\n",
       "       -3.07126251e+02, -3.29099948e+02, -3.81724068e+02, -3.12641096e+02,\n",
       "       -3.34282425e+02, -3.23289396e+02, -3.26756214e+02, -3.37895587e+02,\n",
       "       -3.67882835e+02, -3.54281903e+02, -3.31906781e+02, -3.42321017e+02,\n",
       "       -2.86480421e+02, -2.85352788e+02, -2.90159784e+02, -3.10537473e+02,\n",
       "       -2.83426131e+02, -2.84737236e+02, -2.86153679e+02, -3.11277710e+02,\n",
       "       -6.07731180e+02, -6.02950536e+02, -6.17379796e+02, -3.19914938e+02,\n",
       "       -3.28891212e+02, -1.64065045e+02, -1.68329775e+02, -1.66018707e+02,\n",
       "       -1.70593344e+02, -1.76073103e+02, -1.64775193e+02, -1.68794964e+02,\n",
       "       -1.66906858e+02, -2.46236925e+02, -5.86795564e+02, -3.98424952e+02,\n",
       "       -3.98743566e+02, -4.59322676e+02, -4.85458691e+02, -3.40095692e+02,\n",
       "       -1.95437230e+02, -3.67616836e+02, -3.63005176e+02, -5.14484979e+02,\n",
       "       -5.06984334e+02, -6.07487064e-02, -3.42215744e+02, -3.38048268e+02,\n",
       "       -1.07819674e+03, -1.04648792e+03, -1.03910800e+03, -1.04677281e+03,\n",
       "       -1.04163852e+03, -1.08489082e+03, -1.04585458e+03, -1.08424768e+03,\n",
       "       -1.03931862e+03, -1.06068233e+03, -1.11509686e+03, -1.28033641e+03,\n",
       "       -1.02381415e+03, -1.02132603e+03, -1.00366693e+03, -1.05542770e+03,\n",
       "       -1.06800088e+03, -1.12913803e+03, -1.14991507e+03, -1.05122790e+03,\n",
       "       -1.11463205e+03, -1.07284556e+03, -1.09609376e+03, -1.08660693e+03,\n",
       "       -1.13107460e+03, -1.07902312e+03, -1.08518059e+03, -1.08756173e+03,\n",
       "       -1.21879880e+03, -1.11949971e+03, -1.11882752e+03, -1.13048146e+03,\n",
       "       -1.13838572e+03, -1.07479504e+03, -1.06157650e+03, -1.07996245e+03,\n",
       "       -1.09717046e+03, -1.05214553e+03, -1.06168844e+03, -1.06262338e+03,\n",
       "       -1.06430706e+03, -1.07283239e+03, -1.13834343e+03, -1.15891500e+03,\n",
       "       -1.11057303e+03, -1.07539581e+03, -1.08874594e+03, -1.08627868e+03,\n",
       "       -1.18699141e+03, -1.14661620e+03, -1.11997198e+03, -1.09865456e+03,\n",
       "       -1.16309080e+03, -1.25641595e+03, -1.40715773e+03, -1.38471888e+03,\n",
       "       -1.44919021e+03, -1.24881234e+03, -1.43425899e+03, -1.42611839e+03,\n",
       "       -1.41120985e+03, -1.34202048e+03, -1.45637291e+03, -1.37803838e+03,\n",
       "       -1.11975597e+03, -1.11870759e+03, -1.14265812e+03, -1.41693847e+03,\n",
       "       -1.39643564e+03, -1.42498957e+03, -1.37558493e+03, -1.39817600e+03,\n",
       "       -1.33035830e+03, -1.37161470e+03, -1.32775336e+03, -1.33733916e+03,\n",
       "       -1.29300882e+03, -1.30633039e+03, -1.30994050e+03, -1.32851326e+03,\n",
       "       -1.38203897e+03, -1.43004021e+03, -1.40687152e+03, -1.08336685e+03,\n",
       "       -1.09653405e+03, -1.07901087e+03, -1.05627082e+03, -1.07553876e+03,\n",
       "       -1.22233242e+03, -1.38746647e+03, -1.12726379e+03, -1.06633134e+03,\n",
       "       -1.06526575e+03, -1.14587799e+03, -1.39586471e+03, -1.09454116e+03,\n",
       "       -1.06830745e+03, -1.07426993e+03, -1.39837519e+03, -1.35471675e+03,\n",
       "       -1.39416838e+03, -1.39649632e+03, -1.16418512e+03, -1.05205045e+03,\n",
       "       -1.17481971e+03, -1.05229042e+03, -1.04870533e+03, -1.03624592e+03,\n",
       "       -1.04814498e+03, -1.10214946e+03, -1.37749370e+03, -1.12954243e+03,\n",
       "       -1.09794490e+03, -1.05967762e+03, -1.05621148e+03, -1.04426315e+03,\n",
       "       -1.05028835e+03, -1.05468736e+03, -1.10410904e+03, -1.16448924e+03,\n",
       "       -1.06300508e+03, -1.13788520e+03, -1.07989030e+03, -1.06157433e+03,\n",
       "       -1.03809303e+03, -1.02816315e+03, -1.02294710e+03, -1.04133653e+03,\n",
       "       -1.06932540e+03, -1.04445857e+03, -1.05795819e+03, -1.04759131e+03,\n",
       "       -1.20364713e+03, -1.26894345e+03, -1.31317304e+03, -1.20648515e+03,\n",
       "       -1.18410226e+03, -5.12044120e+02, -5.17693932e+02, -5.37925694e+02,\n",
       "       -5.48105268e+02, -5.20986911e+02, -5.14542626e+02, -5.24621745e+02,\n",
       "       -5.19782325e+02, -2.76608334e+02, -2.70737360e+02, -2.54933668e+02,\n",
       "       -2.62260650e+02, -2.67082993e+02])"
      ]
     },
     "execution_count": 24,
     "metadata": {},
     "output_type": "execute_result"
    }
   ],
   "source": [
    "model.predict(X)"
   ]
  },
  {
   "cell_type": "markdown",
   "metadata": {},
   "source": [
    "2nd method"
   ]
  },
  {
   "cell_type": "code",
   "execution_count": 29,
   "metadata": {},
   "outputs": [],
   "source": [
    "import matplotlib.pyplot as plt \n",
    "from sklearn.datasets import load_boston\n",
    "from  sklearn.preprocessing import StandardScaler \n",
    "from  sklearn.linear_model import LinearRegression\n",
    "from sklearn.metrics import mean_squared_error"
   ]
  },
  {
   "cell_type": "code",
   "execution_count": 26,
   "metadata": {},
   "outputs": [
    {
     "name": "stderr",
     "output_type": "stream",
     "text": [
      "C:\\Users\\Lenovo\\AppData\\Roaming\\Python\\Python310\\site-packages\\sklearn\\utils\\deprecation.py:87: FutureWarning: Function load_boston is deprecated; `load_boston` is deprecated in 1.0 and will be removed in 1.2.\n",
      "\n",
      "    The Boston housing prices dataset has an ethical problem. You can refer to\n",
      "    the documentation of this function for further details.\n",
      "\n",
      "    The scikit-learn maintainers therefore strongly discourage the use of this\n",
      "    dataset unless the purpose of the code is to study and educate about\n",
      "    ethical issues in data science and machine learning.\n",
      "\n",
      "    In this special case, you can fetch the dataset from the original\n",
      "    source::\n",
      "\n",
      "        import pandas as pd\n",
      "        import numpy as np\n",
      "\n",
      "        data_url = \"http://lib.stat.cmu.edu/datasets/boston\"\n",
      "        raw_df = pd.read_csv(data_url, sep=\"\\s+\", skiprows=22, header=None)\n",
      "        data = np.hstack([raw_df.values[::2, :], raw_df.values[1::2, :2]])\n",
      "        target = raw_df.values[1::2, 2]\n",
      "\n",
      "    Alternative datasets include the California housing dataset (i.e.\n",
      "    :func:`~sklearn.datasets.fetch_california_housing`) and the Ames housing\n",
      "    dataset. You can load the datasets as follows::\n",
      "\n",
      "        from sklearn.datasets import fetch_california_housing\n",
      "        housing = fetch_california_housing()\n",
      "\n",
      "    for the California housing dataset and::\n",
      "\n",
      "        from sklearn.datasets import fetch_openml\n",
      "        housing = fetch_openml(name=\"house_prices\", as_frame=True)\n",
      "\n",
      "    for the Ames housing dataset.\n",
      "  warnings.warn(msg, category=FutureWarning)\n"
     ]
    }
   ],
   "source": [
    "X, y = load_boston(return_X_y=True)"
   ]
  },
  {
   "cell_type": "code",
   "execution_count": null,
   "metadata": {},
   "outputs": [],
   "source": [
    "scaler = StandardScaler()"
   ]
  },
  {
   "cell_type": "code",
   "execution_count": null,
   "metadata": {},
   "outputs": [],
   "source": [
    "Pipline([])"
   ]
  }
 ],
 "metadata": {
  "kernelspec": {
   "display_name": "Python 3.10.4 64-bit",
   "language": "python",
   "name": "python3"
  },
  "language_info": {
   "codemirror_mode": {
    "name": "ipython",
    "version": 3
   },
   "file_extension": ".py",
   "mimetype": "text/x-python",
   "name": "python",
   "nbconvert_exporter": "python",
   "pygments_lexer": "ipython3",
   "version": "3.10.4"
  },
  "orig_nbformat": 4,
  "vscode": {
   "interpreter": {
    "hash": "26de051ba29f2982a8de78e945f0abaf191376122a1563185a90213a26c5da77"
   }
  }
 },
 "nbformat": 4,
 "nbformat_minor": 2
}
